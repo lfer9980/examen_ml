{
 "cells": [
  {
   "cell_type": "markdown",
   "metadata": {},
   "source": [
    "#PROBLEMA 4\n"
   ]
  },
  {
   "cell_type": "code",
   "execution_count": 11,
   "metadata": {},
   "outputs": [],
   "source": [
    "\"\"\" imports utilizados \"\"\"\n",
    "import numpy as np\n",
    "import PIL"
   ]
  },
  {
   "cell_type": "code",
   "execution_count": 35,
   "metadata": {},
   "outputs": [],
   "source": [
    "\"\"\" funcion para verificar shape de salida \"\"\"\n",
    "\n",
    "\n",
    "def output_shape(size, kernel, padding, stride):\n",
    "    output = ((size - kernel + 2 * (padding)) / stride) + 1\n",
    "    return output"
   ]
  },
  {
   "cell_type": "code",
   "execution_count": null,
   "metadata": {},
   "outputs": [],
   "source": [
    "\"\"\" convolucion general \"\"\"\n",
    "def convolution(image):\n",
    "\n",
    "    h, w, c = image.shape\n",
    "    kernel = np.array([[-1, 0, 1], [-2 , 0 , 2], [-1 , 0 , 1]])\n",
    "\n",
    "    for z in range (0, c):\n",
    "        for u in range (0, h-3+1):\n",
    "            for v in range (0, w-3+1):\n",
    "                sp = x[u:u+3, ]"
   ]
  },
  {
   "cell_type": "code",
   "execution_count": 38,
   "metadata": {},
   "outputs": [
    {
     "name": "stdout",
     "output_type": "stream",
     "text": [
      "(227, 227, 3)\n"
     ]
    }
   ],
   "source": [
    "image = PIL.Image.open(\"sample.jpeg\")\n",
    "\n",
    "resize_image = image.resize((227, 227))\n",
    "resize_image\n",
    "\n",
    "image_np = np.asarray(resize_image)\n",
    "print(image_np.shape)"
   ]
  },
  {
   "cell_type": "code",
   "execution_count": 42,
   "metadata": {},
   "outputs": [
    {
     "data": {
      "text/plain": [
       "array([[-1,  0,  1],\n",
       "       [-2,  0,  2],\n",
       "       [-1,  0,  1]])"
      ]
     },
     "execution_count": 42,
     "metadata": {},
     "output_type": "execute_result"
    }
   ],
   "source": [
    "kernel = np.array([[-1, 0, 1], [-2, 0, 2], [-1, 0, 1]])\n",
    "kernel"
   ]
  }
 ],
 "metadata": {
  "kernelspec": {
   "display_name": "ml_examen",
   "language": "python",
   "name": "python3"
  },
  "language_info": {
   "codemirror_mode": {
    "name": "ipython",
    "version": 3
   },
   "file_extension": ".py",
   "mimetype": "text/x-python",
   "name": "python",
   "nbconvert_exporter": "python",
   "pygments_lexer": "ipython3",
   "version": "3.9.18"
  }
 },
 "nbformat": 4,
 "nbformat_minor": 2
}
